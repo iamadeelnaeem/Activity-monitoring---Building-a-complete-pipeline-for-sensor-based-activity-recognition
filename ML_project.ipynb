{
  "nbformat": 4,
  "nbformat_minor": 0,
  "metadata": {
    "colab": {
      "provenance": [],
      "toc_visible": true
    },
    "kernelspec": {
      "name": "python3",
      "display_name": "Python 3"
    },
    "language_info": {
      "name": "python"
    }
  },
  "cells": [
    {
      "cell_type": "markdown",
      "source": [
        "#ML_Project"
      ],
      "metadata": {
        "id": "SVX49wdQc5zY"
      }
    },
    {
      "cell_type": "markdown",
      "source": [
        "##Loading dataset"
      ],
      "metadata": {
        "id": "RJQSMzINdAPD"
      }
    },
    {
      "cell_type": "code",
      "execution_count": 8,
      "metadata": {
        "colab": {
          "base_uri": "https://localhost:8080/"
        },
        "id": "WeGqRLHVYcUD",
        "outputId": "9eb7e97f-acb5-46cd-f905-9ddde6e874a3"
      },
      "outputs": [
        {
          "output_type": "stream",
          "name": "stdout",
          "text": [
            "Drive already mounted at /content/drive/; to attempt to forcibly remount, call drive.mount(\"/content/drive/\", force_remount=True).\n"
          ]
        }
      ],
      "source": [
        "from google.colab import drive\n",
        "drive.mount('/content/drive/')"
      ]
    },
    {
      "cell_type": "markdown",
      "source": [
        "## Importing Libraries"
      ],
      "metadata": {
        "id": "O2FsLcU8jTXW"
      }
    },
    {
      "cell_type": "code",
      "source": [
        "import numpy as np\n",
        "from scipy.stats import iqr,skew,kurtosis\n",
        "from sklearn.svm import SVC\n",
        "import math\n",
        "from sklearn.metrics import accuracy_score, f1_score"
      ],
      "metadata": {
        "id": "OLhaESk6jVl6"
      },
      "execution_count": 31,
      "outputs": []
    },
    {
      "cell_type": "markdown",
      "source": [
        "## Loading the data"
      ],
      "metadata": {
        "id": "aj0ieeFIyJAN"
      }
    },
    {
      "cell_type": "code",
      "source": [
        "path = \"/content/drive/MyDrive/ML_Project/dataset/\""
      ],
      "metadata": {
        "id": "7ly7Ac9-diio"
      },
      "execution_count": 32,
      "outputs": []
    },
    {
      "cell_type": "markdown",
      "source": [
        "### Loading the test data"
      ],
      "metadata": {
        "id": "yVRXKQqBnsY8"
      }
    },
    {
      "cell_type": "code",
      "source": [
        "test_labels = np.load(path +'/testing/testLabels.npy')\n",
        "test_MS_Gyroscope = np.load(path +'/testing/testMSGyroscope.npy')\n",
        "test_MS_Accelerometer = np.load(path +'/testing/testMSAccelerometer.npy')\n",
        "test_Magnetometer = np.load(path + '/testing/testMagnetometer.npy')\n",
        "test_linear_Acceleration = np.load(path + '/testing/testLinearAcceleration.npy')\n",
        "test_jins_Gyroscope = np.load(path + '/testing/testJinsGyroscope.npy')\n",
        "test_jins_Accelerometer = np.load(path + '/testing/testJinsAccelerometer.npy')\n",
        "test_Gyroscope = np.load(path + '/testing/testGyroscope.npy')\n",
        "test_Gravity = np.load(path + '/testing/testGravity.npy')\n",
        "test_Accelerometer = np.load(path + '/testing/testAccelerometer.npy')\n",
        "\n",
        "print(np.shape(test_labels))\n",
        "print(np.shape(test_jins_Gyroscope))\n",
        "print(np.shape(test_jins_Accelerometer))\n",
        "print(np.shape(test_MS_Gyroscope))\n",
        "print(np.shape(test_MS_Accelerometer))\n",
        "print(np.shape(test_Magnetometer))\n",
        "print(np.shape(test_Gyroscope))\n",
        "print(np.shape(test_Gravity))\n",
        "print(np.shape(test_Accelerometer))\n",
        "print(np.shape(test_linear_Acceleration))\n",
        "\n",
        "test_jins_Gyroscope=test_jins_Gyroscope.astype(np.float64)\n",
        "test_jins_Accelerometer=test_jins_Accelerometer.astype(np.float64)\n",
        "test_MS_Gyroscope=test_MS_Gyroscope.astype(np.float64)\n",
        "test_MS_Accelerometer=test_MS_Accelerometer.astype(np.float64)\n",
        "test_Magnetometer=test_Magnetometer.astype(np.float64)\n",
        "test_Gyroscope=test_Gyroscope.astype(np.float64)\n",
        "test_Gravity=test_Gravity.astype(np.float64)\n",
        "test_Accelerometer=test_Accelerometer.astype(np.float64)\n",
        "test_linear_Acceleration=test_linear_Acceleration.astype(np.float64)\n",
        "\n",
        "test_data = []\n",
        "test_data.append(test_jins_Gyroscope)\n",
        "test_data.append(test_jins_Accelerometer)\n",
        "test_data.append(test_MS_Gyroscope)\n",
        "test_data.append(test_MS_Accelerometer)\n",
        "test_data.append(test_Magnetometer)\n",
        "test_data.append(test_Gyroscope)\n",
        "test_data.append(test_Gravity)\n",
        "test_data.append(test_Accelerometer)\n",
        "test_data.append(test_linear_Acceleration)"
      ],
      "metadata": {
        "colab": {
          "base_uri": "https://localhost:8080/"
        },
        "id": "P3ubGCdPoFlq",
        "outputId": "85aaa54d-50b0-4571-b929-de117d007524"
      },
      "execution_count": 33,
      "outputs": [
        {
          "output_type": "stream",
          "name": "stdout",
          "text": [
            "(2288,)\n",
            "(2288, 80, 3)\n",
            "(2288, 80, 3)\n",
            "(2288, 268, 3)\n",
            "(2288, 268, 3)\n",
            "(2288, 200, 3)\n",
            "(2288, 800, 3)\n",
            "(2288, 800, 3)\n",
            "(2288, 800, 3)\n",
            "(2288, 800, 3)\n"
          ]
        }
      ]
    },
    {
      "cell_type": "markdown",
      "source": [
        "### Imporing training data"
      ],
      "metadata": {
        "id": "RH9D4ubHoK1A"
      }
    },
    {
      "cell_type": "code",
      "source": [
        "train_labels = np.load(path +'/training/trainLabels.npy')\n",
        "train_MS_Gyroscope = np.load(path +'/training/trainMSGyroscope.npy')\n",
        "train_MS_Accelerometer = np.load(path +'/training/trainMSAccelerometer.npy')\n",
        "train_Magnetometer = np.load(path + '/training/trainMagnetometer.npy')\n",
        "train_linear_Acceleration = np.load(path + '/training/trainLinearAcceleration.npy')\n",
        "train_jins_Gyroscope = np.load(path + '/training/trainJinsGyroscope.npy')\n",
        "train_jins_Accelerometer = np.load(path + '/training/trainJinsAccelerometer.npy')\n",
        "train_Gyroscope = np.load(path + '/training/trainGyroscope.npy')\n",
        "train_Gravity = np.load(path + '/training/trainGravity.npy')\n",
        "train_Accelerometer = np.load(path + '/training/trainAccelerometer.npy')\n",
        "\n",
        "print(np.shape(train_labels))\n",
        "print(np.shape(train_jins_Gyroscope))\n",
        "print(np.shape(train_jins_Accelerometer))\n",
        "print(np.shape(train_MS_Gyroscope))\n",
        "print(np.shape(train_MS_Accelerometer))\n",
        "print(np.shape(train_Magnetometer))\n",
        "print(np.shape(train_Gyroscope))\n",
        "print(np.shape(train_Gravity))\n",
        "print(np.shape(train_Accelerometer))\n",
        "print(np.shape(train_linear_Acceleration))\n",
        "\n",
        "train_jins_Gyroscope=train_jins_Gyroscope.astype(np.float64)\n",
        "train_jins_Accelerometer=train_jins_Accelerometer.astype(np.float64)\n",
        "train_MS_Gyroscope=train_MS_Gyroscope.astype(np.float64)\n",
        "train_MS_Accelerometer=train_MS_Accelerometer.astype(np.float64)\n",
        "train_Magnetometer=train_Magnetometer.astype(np.float64)\n",
        "train_Gyroscope=train_Gyroscope.astype(np.float64)\n",
        "train_Gravity=train_Gravity.astype(np.float64)\n",
        "train_Accelerometer=train_Accelerometer.astype(np.float64)\n",
        "train_linear_Acceleration=train_linear_Acceleration.astype(np.float64)\n",
        "\n",
        "train_data = []\n",
        "train_data.append(train_jins_Gyroscope)\n",
        "train_data.append(train_jins_Accelerometer)\n",
        "train_data.append(train_MS_Gyroscope)\n",
        "train_data.append(train_MS_Accelerometer)\n",
        "train_data.append(train_Magnetometer)\n",
        "train_data.append(train_Gyroscope)\n",
        "train_data.append(train_Gravity)\n",
        "train_data.append(train_Accelerometer)\n",
        "train_data.append(train_linear_Acceleration)\n"
      ],
      "metadata": {
        "colab": {
          "base_uri": "https://localhost:8080/"
        },
        "id": "ougvPsvXoO8R",
        "outputId": "981fe3f0-7ae5-4e8f-8cb7-0e722a1b651f"
      },
      "execution_count": 34,
      "outputs": [
        {
          "output_type": "stream",
          "name": "stdout",
          "text": [
            "(2284,)\n",
            "(2284, 80, 3)\n",
            "(2284, 80, 3)\n",
            "(2284, 268, 3)\n",
            "(2284, 268, 3)\n",
            "(2284, 200, 3)\n",
            "(2284, 800, 3)\n",
            "(2284, 800, 3)\n",
            "(2284, 800, 3)\n",
            "(2284, 800, 3)\n"
          ]
        }
      ]
    },
    {
      "cell_type": "markdown",
      "source": [
        "## Feature Calculation Function"
      ],
      "metadata": {
        "id": "pa1qV2Toya-0"
      }
    },
    {
      "cell_type": "code",
      "source": [
        "def calculate_features(data):\n",
        "    features = []\n",
        "\n",
        "    max = np.max(data, axis=1)\n",
        "    for i in range(3):\n",
        "      features.append(max[i])\n",
        "\n",
        "    min = np.min(data, axis=1)\n",
        "    for i in range(3):\n",
        "      features.append(min[i])\n",
        "\n",
        "    avg = []\n",
        "    for i in range(3):\n",
        "      a = np.average(np.abs(data[i] - np.median(data[i])))\n",
        "      avg.append(a)\n",
        "      features.append(a)\n",
        "\n",
        "    std = np.std(data, axis=1)\n",
        "    for i in range(3):\n",
        "      features.append(std[i])\n",
        "\n",
        "    for i in range(3):\n",
        "      zero_crossing = len(np.where(np.diff(np.signbit(data[i]))))\n",
        "      features.append(zero_crossing)\n",
        "\n",
        "    per1 = np.percentile(data, 20, axis=1)\n",
        "    for i in range(3):\n",
        "      features.append(per1[i])\n",
        "\n",
        "    per2 = np.percentile(data, 50, axis=1)\n",
        "    for i in range(3):\n",
        "      features.append(per2[i])\n",
        "\n",
        "    per3 = np.percentile(data, 80, axis=1)\n",
        "    for i in range(3):\n",
        "      features.append(per3[i])\n",
        "\n",
        "    for i in range(3):\n",
        "      features.append(iqr(data[i]))\n",
        "\n",
        "    for i in range(3):\n",
        "      s = skew(data[i])\n",
        "      features.append(s)\n",
        "\n",
        "    for i in range(3):\n",
        "      k = kurtosis(data[i])\n",
        "      features.append(k)\n",
        "\n",
        "    for i in range(3):\n",
        "      features.append(np.correlate(data[i], data[i], mode='valid')[0])\n",
        "\n",
        "    f_mean = []\n",
        "    for i in range(3):\n",
        "      first_order_mean = np.mean(data[i])\n",
        "      f_mean.append(first_order_mean)\n",
        "      features.append(first_order_mean)\n",
        "\n",
        "    for i in range(3):\n",
        "      norm_first_order_mean = np.linalg.norm(f_mean[i])\n",
        "      features.append(norm_first_order_mean)\n",
        "\n",
        "    s_mean = []\n",
        "    for k in range(3):\n",
        "      second_order_mean = np.var(data[k])\n",
        "      s_mean.append(second_order_mean)\n",
        "      features.append(second_order_mean)\n",
        "\n",
        "    for k in range(3):\n",
        "      norm_second_order_mean = np.linalg.norm(s_mean[k])\n",
        "      features.append(norm_second_order_mean)\n",
        "\n",
        "    for i in range(3):\n",
        "      spectral_energy = sum(np.abs(np.fft.rfft(data[i]))**2)\n",
        "      features.append(spectral_energy)\n",
        "\n",
        "    for i in range(3):\n",
        "      spectral_entropy = -sum(p * np.log2(p) for p in np.abs(np.fft.rfft(data[i]))**2 if p > 1e-12)\n",
        "      features.append(spectral_entropy)\n",
        "\n",
        "    return features\n"
      ],
      "metadata": {
        "id": "cVRri3Mpojvw"
      },
      "execution_count": 35,
      "outputs": []
    },
    {
      "cell_type": "markdown",
      "source": [
        "## Applying feature calc function on training data"
      ],
      "metadata": {
        "id": "_pg4jjVczzAt"
      }
    },
    {
      "cell_type": "code",
      "source": [
        "train_feature_matrix = []\n",
        "matrix = []\n",
        "for i, data in enumerate(train_data):\n",
        "    for j, mat in enumerate(data):\n",
        "        matrix.append(calculate_features([mat[:,0], mat[:,1], mat[:,2]]))\n",
        "    train_feature_matrix.append(matrix)\n",
        "    matrix = []\n"
      ],
      "metadata": {
        "colab": {
          "base_uri": "https://localhost:8080/"
        },
        "id": "5RAmVjCuwfyQ",
        "outputId": "32cb32ad-4faf-466b-8787-61e3a10f35db"
      },
      "execution_count": 36,
      "outputs": [
        {
          "output_type": "stream",
          "name": "stderr",
          "text": [
            "<ipython-input-35-ef65c6bc8034>:42: RuntimeWarning: Precision loss occurred in moment calculation due to catastrophic cancellation. This occurs when the data are nearly identical. Results may be unreliable.\n",
            "  s = skew(data[i])\n",
            "<ipython-input-35-ef65c6bc8034>:46: RuntimeWarning: Precision loss occurred in moment calculation due to catastrophic cancellation. This occurs when the data are nearly identical. Results may be unreliable.\n",
            "  k = kurtosis(data[i])\n"
          ]
        }
      ]
    },
    {
      "cell_type": "code",
      "source": [
        "train_data=np.hstack([train_feature_matrix[0],train_feature_matrix[1],train_feature_matrix[2],train_feature_matrix[3],\n",
        "           train_feature_matrix[4],train_feature_matrix[5],train_feature_matrix[6],train_feature_matrix[7],\n",
        "           train_feature_matrix[8]])"
      ],
      "metadata": {
        "id": "chmzUCrRwvFu"
      },
      "execution_count": 37,
      "outputs": []
    },
    {
      "cell_type": "code",
      "source": [
        "np.array(train_feature_matrix).shape"
      ],
      "metadata": {
        "colab": {
          "base_uri": "https://localhost:8080/"
        },
        "id": "Olaqp82Dsn-w",
        "outputId": "dc663bd5-340c-4cb0-8cb8-b374823a15e1"
      },
      "execution_count": 38,
      "outputs": [
        {
          "output_type": "execute_result",
          "data": {
            "text/plain": [
              "(9, 2284, 54)"
            ]
          },
          "metadata": {},
          "execution_count": 38
        }
      ]
    },
    {
      "cell_type": "code",
      "source": [
        "train_data.shape"
      ],
      "metadata": {
        "colab": {
          "base_uri": "https://localhost:8080/"
        },
        "id": "fPkfCa2xtWmf",
        "outputId": "dd0ae1b5-41be-40da-f10e-6a20cf98cb8f"
      },
      "execution_count": 39,
      "outputs": [
        {
          "output_type": "execute_result",
          "data": {
            "text/plain": [
              "(2284, 486)"
            ]
          },
          "metadata": {},
          "execution_count": 39
        }
      ]
    },
    {
      "cell_type": "markdown",
      "source": [
        "## Dealing with NaN values"
      ],
      "metadata": {
        "id": "dnfLNKQ10NFy"
      }
    },
    {
      "cell_type": "code",
      "source": [
        "np.isnan(train_data).sum()"
      ],
      "metadata": {
        "colab": {
          "base_uri": "https://localhost:8080/"
        },
        "id": "K_RGZ9BGpmVb",
        "outputId": "aa008cf6-725c-43f5-f7a3-4766cc2c2d71"
      },
      "execution_count": 40,
      "outputs": [
        {
          "output_type": "execute_result",
          "data": {
            "text/plain": [
              "372"
            ]
          },
          "metadata": {},
          "execution_count": 40
        }
      ]
    },
    {
      "cell_type": "code",
      "source": [
        "train_data=np.nan_to_num(train_data)"
      ],
      "metadata": {
        "id": "cE-FyMv5pZ5G"
      },
      "execution_count": 41,
      "outputs": []
    },
    {
      "cell_type": "code",
      "source": [
        "np.isnan(train_data).sum()"
      ],
      "metadata": {
        "colab": {
          "base_uri": "https://localhost:8080/"
        },
        "id": "hInpDFmdpoqi",
        "outputId": "b849953b-19a4-464f-c725-3ecfb9600adf"
      },
      "execution_count": 42,
      "outputs": [
        {
          "output_type": "execute_result",
          "data": {
            "text/plain": [
              "0"
            ]
          },
          "metadata": {},
          "execution_count": 42
        }
      ]
    },
    {
      "cell_type": "markdown",
      "source": [
        "## Applying feature Calc function on testing data"
      ],
      "metadata": {
        "id": "Sy2xBRkk1abq"
      }
    },
    {
      "cell_type": "code",
      "source": [
        "test_feature_matrix = []\n",
        "matrix = []\n",
        "for i, data in enumerate(test_data):\n",
        "    for j, mat in enumerate(data):\n",
        "        matrix.append(calculate_features([mat[:,0], mat[:,1], mat[:,2]]))\n",
        "    test_feature_matrix.append(matrix)\n",
        "    matrix = []"
      ],
      "metadata": {
        "colab": {
          "base_uri": "https://localhost:8080/"
        },
        "id": "rSnFSQT11eJp",
        "outputId": "4db9b929-7136-4175-da62-535d92df3abc"
      },
      "execution_count": 43,
      "outputs": [
        {
          "output_type": "stream",
          "name": "stderr",
          "text": [
            "<ipython-input-35-ef65c6bc8034>:42: RuntimeWarning: Precision loss occurred in moment calculation due to catastrophic cancellation. This occurs when the data are nearly identical. Results may be unreliable.\n",
            "  s = skew(data[i])\n",
            "<ipython-input-35-ef65c6bc8034>:46: RuntimeWarning: Precision loss occurred in moment calculation due to catastrophic cancellation. This occurs when the data are nearly identical. Results may be unreliable.\n",
            "  k = kurtosis(data[i])\n"
          ]
        }
      ]
    },
    {
      "cell_type": "code",
      "source": [
        "test_data=np.hstack([test_feature_matrix[0],test_feature_matrix[1],test_feature_matrix[2],test_feature_matrix[3],\n",
        "           test_feature_matrix[4],test_feature_matrix[5],test_feature_matrix[6],test_feature_matrix[7],\n",
        "           test_feature_matrix[8]])\n",
        "\n",
        "test_data=np.nan_to_num(test_data)"
      ],
      "metadata": {
        "id": "cI_-NqUs1k07"
      },
      "execution_count": 44,
      "outputs": []
    },
    {
      "cell_type": "markdown",
      "source": [
        "## Creating a pipeline"
      ],
      "metadata": {
        "id": "CDSZBPcZ0QuZ"
      }
    },
    {
      "cell_type": "code",
      "source": [
        "from sklearn.pipeline import Pipeline\n",
        "from sklearn.preprocessing import StandardScaler\n",
        "\n",
        "def create_pipeline(model):\n",
        "  return Pipeline([\n",
        "      ('scaler',StandardScaler()),\n",
        "      ('model',model)])"
      ],
      "metadata": {
        "id": "YlTDUv5d0VEc"
      },
      "execution_count": 45,
      "outputs": []
    },
    {
      "cell_type": "code",
      "source": [
        "from sklearn.metrics import classification_report,accuracy_score,f1_score,recall_score\n",
        "def get_metrics(model,xtest,ytrue):\n",
        "  ypreds=np.array(model.predict(xtest))\n",
        "  print(classification_report(ytrue,ypreds))\n",
        "  return {'accuracy':accuracy_score(ytrue,ypreds),\n",
        "          'recall':recall_score(ytrue,ypreds,average='macro'),\n",
        "          'f1-score':f1_score(ytrue,ypreds,average='macro')}"
      ],
      "metadata": {
        "id": "wBF5rV-j1vaL"
      },
      "execution_count": 46,
      "outputs": []
    },
    {
      "cell_type": "markdown",
      "source": [
        "## SVC"
      ],
      "metadata": {
        "id": "cMdfPa-28x2y"
      }
    },
    {
      "cell_type": "code",
      "source": [
        "svc = create_pipeline(SVC(C=100))\n",
        "svc.fit(train_data, train_labels)"
      ],
      "metadata": {
        "colab": {
          "base_uri": "https://localhost:8080/",
          "height": 125
        },
        "id": "4AA_kQPYQ0iI",
        "outputId": "8d7546a8-f73b-4c89-d42e-797a22ba8ad0"
      },
      "execution_count": 47,
      "outputs": [
        {
          "output_type": "execute_result",
          "data": {
            "text/plain": [
              "Pipeline(steps=[('scaler', StandardScaler()), ('model', SVC(C=100))])"
            ],
            "text/html": [
              "<style>#sk-container-id-1 {color: black;background-color: white;}#sk-container-id-1 pre{padding: 0;}#sk-container-id-1 div.sk-toggleable {background-color: white;}#sk-container-id-1 label.sk-toggleable__label {cursor: pointer;display: block;width: 100%;margin-bottom: 0;padding: 0.3em;box-sizing: border-box;text-align: center;}#sk-container-id-1 label.sk-toggleable__label-arrow:before {content: \"▸\";float: left;margin-right: 0.25em;color: #696969;}#sk-container-id-1 label.sk-toggleable__label-arrow:hover:before {color: black;}#sk-container-id-1 div.sk-estimator:hover label.sk-toggleable__label-arrow:before {color: black;}#sk-container-id-1 div.sk-toggleable__content {max-height: 0;max-width: 0;overflow: hidden;text-align: left;background-color: #f0f8ff;}#sk-container-id-1 div.sk-toggleable__content pre {margin: 0.2em;color: black;border-radius: 0.25em;background-color: #f0f8ff;}#sk-container-id-1 input.sk-toggleable__control:checked~div.sk-toggleable__content {max-height: 200px;max-width: 100%;overflow: auto;}#sk-container-id-1 input.sk-toggleable__control:checked~label.sk-toggleable__label-arrow:before {content: \"▾\";}#sk-container-id-1 div.sk-estimator input.sk-toggleable__control:checked~label.sk-toggleable__label {background-color: #d4ebff;}#sk-container-id-1 div.sk-label input.sk-toggleable__control:checked~label.sk-toggleable__label {background-color: #d4ebff;}#sk-container-id-1 input.sk-hidden--visually {border: 0;clip: rect(1px 1px 1px 1px);clip: rect(1px, 1px, 1px, 1px);height: 1px;margin: -1px;overflow: hidden;padding: 0;position: absolute;width: 1px;}#sk-container-id-1 div.sk-estimator {font-family: monospace;background-color: #f0f8ff;border: 1px dotted black;border-radius: 0.25em;box-sizing: border-box;margin-bottom: 0.5em;}#sk-container-id-1 div.sk-estimator:hover {background-color: #d4ebff;}#sk-container-id-1 div.sk-parallel-item::after {content: \"\";width: 100%;border-bottom: 1px solid gray;flex-grow: 1;}#sk-container-id-1 div.sk-label:hover label.sk-toggleable__label {background-color: #d4ebff;}#sk-container-id-1 div.sk-serial::before {content: \"\";position: absolute;border-left: 1px solid gray;box-sizing: border-box;top: 0;bottom: 0;left: 50%;z-index: 0;}#sk-container-id-1 div.sk-serial {display: flex;flex-direction: column;align-items: center;background-color: white;padding-right: 0.2em;padding-left: 0.2em;position: relative;}#sk-container-id-1 div.sk-item {position: relative;z-index: 1;}#sk-container-id-1 div.sk-parallel {display: flex;align-items: stretch;justify-content: center;background-color: white;position: relative;}#sk-container-id-1 div.sk-item::before, #sk-container-id-1 div.sk-parallel-item::before {content: \"\";position: absolute;border-left: 1px solid gray;box-sizing: border-box;top: 0;bottom: 0;left: 50%;z-index: -1;}#sk-container-id-1 div.sk-parallel-item {display: flex;flex-direction: column;z-index: 1;position: relative;background-color: white;}#sk-container-id-1 div.sk-parallel-item:first-child::after {align-self: flex-end;width: 50%;}#sk-container-id-1 div.sk-parallel-item:last-child::after {align-self: flex-start;width: 50%;}#sk-container-id-1 div.sk-parallel-item:only-child::after {width: 0;}#sk-container-id-1 div.sk-dashed-wrapped {border: 1px dashed gray;margin: 0 0.4em 0.5em 0.4em;box-sizing: border-box;padding-bottom: 0.4em;background-color: white;}#sk-container-id-1 div.sk-label label {font-family: monospace;font-weight: bold;display: inline-block;line-height: 1.2em;}#sk-container-id-1 div.sk-label-container {text-align: center;}#sk-container-id-1 div.sk-container {/* jupyter's `normalize.less` sets `[hidden] { display: none; }` but bootstrap.min.css set `[hidden] { display: none !important; }` so we also need the `!important` here to be able to override the default hidden behavior on the sphinx rendered scikit-learn.org. See: https://github.com/scikit-learn/scikit-learn/issues/21755 */display: inline-block !important;position: relative;}#sk-container-id-1 div.sk-text-repr-fallback {display: none;}</style><div id=\"sk-container-id-1\" class=\"sk-top-container\"><div class=\"sk-text-repr-fallback\"><pre>Pipeline(steps=[(&#x27;scaler&#x27;, StandardScaler()), (&#x27;model&#x27;, SVC(C=100))])</pre><b>In a Jupyter environment, please rerun this cell to show the HTML representation or trust the notebook. <br />On GitHub, the HTML representation is unable to render, please try loading this page with nbviewer.org.</b></div><div class=\"sk-container\" hidden><div class=\"sk-item sk-dashed-wrapped\"><div class=\"sk-label-container\"><div class=\"sk-label sk-toggleable\"><input class=\"sk-toggleable__control sk-hidden--visually\" id=\"sk-estimator-id-1\" type=\"checkbox\" ><label for=\"sk-estimator-id-1\" class=\"sk-toggleable__label sk-toggleable__label-arrow\">Pipeline</label><div class=\"sk-toggleable__content\"><pre>Pipeline(steps=[(&#x27;scaler&#x27;, StandardScaler()), (&#x27;model&#x27;, SVC(C=100))])</pre></div></div></div><div class=\"sk-serial\"><div class=\"sk-item\"><div class=\"sk-estimator sk-toggleable\"><input class=\"sk-toggleable__control sk-hidden--visually\" id=\"sk-estimator-id-2\" type=\"checkbox\" ><label for=\"sk-estimator-id-2\" class=\"sk-toggleable__label sk-toggleable__label-arrow\">StandardScaler</label><div class=\"sk-toggleable__content\"><pre>StandardScaler()</pre></div></div></div><div class=\"sk-item\"><div class=\"sk-estimator sk-toggleable\"><input class=\"sk-toggleable__control sk-hidden--visually\" id=\"sk-estimator-id-3\" type=\"checkbox\" ><label for=\"sk-estimator-id-3\" class=\"sk-toggleable__label sk-toggleable__label-arrow\">SVC</label><div class=\"sk-toggleable__content\"><pre>SVC(C=100)</pre></div></div></div></div></div></div></div>"
            ]
          },
          "metadata": {},
          "execution_count": 47
        }
      ]
    },
    {
      "cell_type": "code",
      "source": [
        "results=get_metrics(svc,test_data,test_labels)\n"
      ],
      "metadata": {
        "colab": {
          "base_uri": "https://localhost:8080/"
        },
        "id": "ZVeAgTAU1Flz",
        "outputId": "900dfced-94c8-415d-cf1f-2dafe38093d7"
      },
      "execution_count": 49,
      "outputs": [
        {
          "output_type": "stream",
          "name": "stdout",
          "text": [
            "              precision    recall  f1-score   support\n",
            "\n",
            "           0       0.85      1.00      0.92        39\n",
            "           1       0.82      0.94      0.87        52\n",
            "           2       0.76      0.58      0.66        45\n",
            "           3       0.63      0.80      0.70        40\n",
            "           4       0.50      0.72      0.59        46\n",
            "           5       0.54      0.67      0.60        42\n",
            "           6       0.47      0.60      0.53        42\n",
            "           7       0.29      0.34      0.31        41\n",
            "           8       0.16      0.17      0.16        42\n",
            "           9       0.60      0.60      0.60        20\n",
            "          10       0.72      0.60      0.66        48\n",
            "          11       0.68      0.69      0.68        36\n",
            "          12       1.00      0.97      0.99        40\n",
            "          13       0.53      0.57      0.55        42\n",
            "          14       0.89      0.95      0.92        42\n",
            "          15       0.93      0.96      0.95        45\n",
            "          16       0.76      0.88      0.81        40\n",
            "          17       0.50      0.95      0.66        43\n",
            "          18       0.59      0.59      0.59        41\n",
            "          19       0.84      0.53      0.65        40\n",
            "          20       0.72      0.58      0.64        48\n",
            "          21       0.58      0.74      0.65        38\n",
            "          22       0.48      0.62      0.54        40\n",
            "          23       0.44      0.40      0.41        43\n",
            "          24       0.08      0.05      0.06        42\n",
            "          25       0.65      0.65      0.65        20\n",
            "          26       0.82      0.60      0.69        47\n",
            "          27       0.37      0.26      0.30        43\n",
            "          28       0.73      0.82      0.77        39\n",
            "          29       0.56      0.56      0.56        43\n",
            "          30       0.69      0.70      0.69        50\n",
            "          31       0.76      0.68      0.72        41\n",
            "          32       0.88      0.74      0.80        38\n",
            "          33       0.70      0.74      0.72        42\n",
            "          34       0.43      0.43      0.43        42\n",
            "          35       0.60      0.69      0.64        39\n",
            "          36       0.96      0.64      0.77        42\n",
            "          37       0.54      0.75      0.63        40\n",
            "          38       0.97      0.73      0.83        44\n",
            "          39       0.97      0.89      0.93        44\n",
            "          40       0.87      0.91      0.89        45\n",
            "          41       0.97      0.86      0.91        43\n",
            "          42       0.78      0.78      0.78        45\n",
            "          43       0.81      0.89      0.85        38\n",
            "          44       0.95      1.00      0.98        40\n",
            "          45       0.58      0.50      0.54        42\n",
            "          46       0.67      0.58      0.62        45\n",
            "          47       0.69      0.63      0.66        43\n",
            "          48       0.86      0.77      0.81        47\n",
            "          49       0.70      0.49      0.58        43\n",
            "          50       0.77      0.75      0.76        40\n",
            "          51       0.92      0.88      0.90        40\n",
            "          52       0.50      0.37      0.42        46\n",
            "          53       0.92      0.88      0.90        40\n",
            "          54       0.70      0.65      0.68        40\n",
            "\n",
            "    accuracy                           0.68      2288\n",
            "   macro avg       0.69      0.68      0.67      2288\n",
            "weighted avg       0.69      0.68      0.68      2288\n",
            "\n"
          ]
        }
      ]
    },
    {
      "cell_type": "code",
      "source": [
        "results"
      ],
      "metadata": {
        "colab": {
          "base_uri": "https://localhost:8080/"
        },
        "id": "oZ981fRk1Fia",
        "outputId": "89bcfc3e-0391-4748-c12e-69b2e3d689ff"
      },
      "execution_count": 50,
      "outputs": [
        {
          "output_type": "execute_result",
          "data": {
            "text/plain": [
              "{'accuracy': 0.6774475524475524,\n",
              " 'recall': 0.6777564273826368,\n",
              " 'f1-score': 0.6744904068098813}"
            ]
          },
          "metadata": {},
          "execution_count": 50
        }
      ]
    },
    {
      "cell_type": "markdown",
      "source": [
        "## Random Forest Classifier"
      ],
      "metadata": {
        "id": "qM0vginm8OSm"
      }
    },
    {
      "cell_type": "code",
      "source": [
        "from sklearn.ensemble import RandomForestClassifier\n",
        "rfc = create_pipeline(RandomForestClassifier())\n",
        "rfc.fit(train_data,train_labels)"
      ],
      "metadata": {
        "colab": {
          "base_uri": "https://localhost:8080/",
          "height": 125
        },
        "id": "28f-Rpp2875H",
        "outputId": "896389e1-ddec-4da2-bff4-e89181f4ee41"
      },
      "execution_count": 55,
      "outputs": [
        {
          "output_type": "execute_result",
          "data": {
            "text/plain": [
              "Pipeline(steps=[('scaler', StandardScaler()),\n",
              "                ('model', RandomForestClassifier())])"
            ],
            "text/html": [
              "<style>#sk-container-id-3 {color: black;background-color: white;}#sk-container-id-3 pre{padding: 0;}#sk-container-id-3 div.sk-toggleable {background-color: white;}#sk-container-id-3 label.sk-toggleable__label {cursor: pointer;display: block;width: 100%;margin-bottom: 0;padding: 0.3em;box-sizing: border-box;text-align: center;}#sk-container-id-3 label.sk-toggleable__label-arrow:before {content: \"▸\";float: left;margin-right: 0.25em;color: #696969;}#sk-container-id-3 label.sk-toggleable__label-arrow:hover:before {color: black;}#sk-container-id-3 div.sk-estimator:hover label.sk-toggleable__label-arrow:before {color: black;}#sk-container-id-3 div.sk-toggleable__content {max-height: 0;max-width: 0;overflow: hidden;text-align: left;background-color: #f0f8ff;}#sk-container-id-3 div.sk-toggleable__content pre {margin: 0.2em;color: black;border-radius: 0.25em;background-color: #f0f8ff;}#sk-container-id-3 input.sk-toggleable__control:checked~div.sk-toggleable__content {max-height: 200px;max-width: 100%;overflow: auto;}#sk-container-id-3 input.sk-toggleable__control:checked~label.sk-toggleable__label-arrow:before {content: \"▾\";}#sk-container-id-3 div.sk-estimator input.sk-toggleable__control:checked~label.sk-toggleable__label {background-color: #d4ebff;}#sk-container-id-3 div.sk-label input.sk-toggleable__control:checked~label.sk-toggleable__label {background-color: #d4ebff;}#sk-container-id-3 input.sk-hidden--visually {border: 0;clip: rect(1px 1px 1px 1px);clip: rect(1px, 1px, 1px, 1px);height: 1px;margin: -1px;overflow: hidden;padding: 0;position: absolute;width: 1px;}#sk-container-id-3 div.sk-estimator {font-family: monospace;background-color: #f0f8ff;border: 1px dotted black;border-radius: 0.25em;box-sizing: border-box;margin-bottom: 0.5em;}#sk-container-id-3 div.sk-estimator:hover {background-color: #d4ebff;}#sk-container-id-3 div.sk-parallel-item::after {content: \"\";width: 100%;border-bottom: 1px solid gray;flex-grow: 1;}#sk-container-id-3 div.sk-label:hover label.sk-toggleable__label {background-color: #d4ebff;}#sk-container-id-3 div.sk-serial::before {content: \"\";position: absolute;border-left: 1px solid gray;box-sizing: border-box;top: 0;bottom: 0;left: 50%;z-index: 0;}#sk-container-id-3 div.sk-serial {display: flex;flex-direction: column;align-items: center;background-color: white;padding-right: 0.2em;padding-left: 0.2em;position: relative;}#sk-container-id-3 div.sk-item {position: relative;z-index: 1;}#sk-container-id-3 div.sk-parallel {display: flex;align-items: stretch;justify-content: center;background-color: white;position: relative;}#sk-container-id-3 div.sk-item::before, #sk-container-id-3 div.sk-parallel-item::before {content: \"\";position: absolute;border-left: 1px solid gray;box-sizing: border-box;top: 0;bottom: 0;left: 50%;z-index: -1;}#sk-container-id-3 div.sk-parallel-item {display: flex;flex-direction: column;z-index: 1;position: relative;background-color: white;}#sk-container-id-3 div.sk-parallel-item:first-child::after {align-self: flex-end;width: 50%;}#sk-container-id-3 div.sk-parallel-item:last-child::after {align-self: flex-start;width: 50%;}#sk-container-id-3 div.sk-parallel-item:only-child::after {width: 0;}#sk-container-id-3 div.sk-dashed-wrapped {border: 1px dashed gray;margin: 0 0.4em 0.5em 0.4em;box-sizing: border-box;padding-bottom: 0.4em;background-color: white;}#sk-container-id-3 div.sk-label label {font-family: monospace;font-weight: bold;display: inline-block;line-height: 1.2em;}#sk-container-id-3 div.sk-label-container {text-align: center;}#sk-container-id-3 div.sk-container {/* jupyter's `normalize.less` sets `[hidden] { display: none; }` but bootstrap.min.css set `[hidden] { display: none !important; }` so we also need the `!important` here to be able to override the default hidden behavior on the sphinx rendered scikit-learn.org. See: https://github.com/scikit-learn/scikit-learn/issues/21755 */display: inline-block !important;position: relative;}#sk-container-id-3 div.sk-text-repr-fallback {display: none;}</style><div id=\"sk-container-id-3\" class=\"sk-top-container\"><div class=\"sk-text-repr-fallback\"><pre>Pipeline(steps=[(&#x27;scaler&#x27;, StandardScaler()),\n",
              "                (&#x27;model&#x27;, RandomForestClassifier())])</pre><b>In a Jupyter environment, please rerun this cell to show the HTML representation or trust the notebook. <br />On GitHub, the HTML representation is unable to render, please try loading this page with nbviewer.org.</b></div><div class=\"sk-container\" hidden><div class=\"sk-item sk-dashed-wrapped\"><div class=\"sk-label-container\"><div class=\"sk-label sk-toggleable\"><input class=\"sk-toggleable__control sk-hidden--visually\" id=\"sk-estimator-id-7\" type=\"checkbox\" ><label for=\"sk-estimator-id-7\" class=\"sk-toggleable__label sk-toggleable__label-arrow\">Pipeline</label><div class=\"sk-toggleable__content\"><pre>Pipeline(steps=[(&#x27;scaler&#x27;, StandardScaler()),\n",
              "                (&#x27;model&#x27;, RandomForestClassifier())])</pre></div></div></div><div class=\"sk-serial\"><div class=\"sk-item\"><div class=\"sk-estimator sk-toggleable\"><input class=\"sk-toggleable__control sk-hidden--visually\" id=\"sk-estimator-id-8\" type=\"checkbox\" ><label for=\"sk-estimator-id-8\" class=\"sk-toggleable__label sk-toggleable__label-arrow\">StandardScaler</label><div class=\"sk-toggleable__content\"><pre>StandardScaler()</pre></div></div></div><div class=\"sk-item\"><div class=\"sk-estimator sk-toggleable\"><input class=\"sk-toggleable__control sk-hidden--visually\" id=\"sk-estimator-id-9\" type=\"checkbox\" ><label for=\"sk-estimator-id-9\" class=\"sk-toggleable__label sk-toggleable__label-arrow\">RandomForestClassifier</label><div class=\"sk-toggleable__content\"><pre>RandomForestClassifier()</pre></div></div></div></div></div></div></div>"
            ]
          },
          "metadata": {},
          "execution_count": 55
        }
      ]
    },
    {
      "cell_type": "code",
      "source": [
        "results=get_metrics(rfc,test_data,test_labels)"
      ],
      "metadata": {
        "colab": {
          "base_uri": "https://localhost:8080/"
        },
        "id": "Vmhm-RIi9FLt",
        "outputId": "0a985d46-30e8-41c4-edf4-e503ae63bba9"
      },
      "execution_count": 56,
      "outputs": [
        {
          "output_type": "stream",
          "name": "stdout",
          "text": [
            "              precision    recall  f1-score   support\n",
            "\n",
            "           0       0.91      1.00      0.95        39\n",
            "           1       0.70      0.98      0.82        52\n",
            "           2       0.74      0.38      0.50        45\n",
            "           3       0.55      0.68      0.61        40\n",
            "           4       0.44      0.76      0.56        46\n",
            "           5       0.65      0.79      0.71        42\n",
            "           6       0.48      0.33      0.39        42\n",
            "           7       0.51      0.54      0.52        41\n",
            "           8       0.18      0.17      0.17        42\n",
            "           9       0.76      0.65      0.70        20\n",
            "          10       0.73      0.67      0.70        48\n",
            "          11       0.54      0.42      0.47        36\n",
            "          12       1.00      0.95      0.97        40\n",
            "          13       0.58      0.76      0.66        42\n",
            "          14       0.85      0.93      0.89        42\n",
            "          15       0.96      0.96      0.96        45\n",
            "          16       0.76      0.93      0.83        40\n",
            "          17       0.95      0.98      0.97        43\n",
            "          18       0.57      0.66      0.61        41\n",
            "          19       0.76      0.47      0.58        40\n",
            "          20       0.58      0.62      0.60        48\n",
            "          21       0.45      0.63      0.53        38\n",
            "          22       0.58      0.78      0.67        40\n",
            "          23       0.53      0.56      0.55        43\n",
            "          24       0.10      0.10      0.10        42\n",
            "          25       0.67      0.70      0.68        20\n",
            "          26       0.76      0.53      0.62        47\n",
            "          27       0.23      0.14      0.17        43\n",
            "          28       0.66      0.69      0.68        39\n",
            "          29       0.66      0.53      0.59        43\n",
            "          30       0.69      0.74      0.71        50\n",
            "          31       0.56      0.85      0.67        41\n",
            "          32       0.80      0.74      0.77        38\n",
            "          33       0.60      0.74      0.66        42\n",
            "          34       0.53      0.43      0.47        42\n",
            "          35       0.77      0.59      0.67        39\n",
            "          36       0.84      0.74      0.78        42\n",
            "          37       0.66      0.53      0.58        40\n",
            "          38       0.91      0.66      0.76        44\n",
            "          39       0.82      0.95      0.88        44\n",
            "          40       0.78      0.96      0.86        45\n",
            "          41       1.00      0.72      0.84        43\n",
            "          42       0.75      0.80      0.77        45\n",
            "          43       0.64      0.74      0.68        38\n",
            "          44       0.87      1.00      0.93        40\n",
            "          45       0.53      0.62      0.57        42\n",
            "          46       0.70      0.42      0.53        45\n",
            "          47       0.95      0.47      0.62        43\n",
            "          48       0.85      0.60      0.70        47\n",
            "          49       0.64      0.70      0.67        43\n",
            "          50       0.80      0.80      0.80        40\n",
            "          51       0.78      0.90      0.84        40\n",
            "          52       0.49      0.37      0.42        46\n",
            "          53       0.88      0.95      0.92        40\n",
            "          54       0.78      0.72      0.75        40\n",
            "\n",
            "    accuracy                           0.67      2288\n",
            "   macro avg       0.68      0.67      0.67      2288\n",
            "weighted avg       0.68      0.67      0.67      2288\n",
            "\n"
          ]
        }
      ]
    },
    {
      "cell_type": "code",
      "source": [
        "results"
      ],
      "metadata": {
        "colab": {
          "base_uri": "https://localhost:8080/"
        },
        "id": "CVbNzO4j9IvD",
        "outputId": "5508db05-28ae-4694-ab3f-05c16ddc1208"
      },
      "execution_count": 57,
      "outputs": [
        {
          "output_type": "execute_result",
          "data": {
            "text/plain": [
              "{'accuracy': 0.6722027972027972,\n",
              " 'recall': 0.6724781940859956,\n",
              " 'f1-score': 0.665925634748932}"
            ]
          },
          "metadata": {},
          "execution_count": 57
        }
      ]
    }
  ]
}